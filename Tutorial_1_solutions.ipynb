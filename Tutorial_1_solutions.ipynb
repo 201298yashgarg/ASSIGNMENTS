{
  "nbformat": 4,
  "nbformat_minor": 0,
  "metadata": {
    "colab": {
      "name": "Tutorial 1 solutions.ipynb",
      "provenance": [],
      "collapsed_sections": [],
      "authorship_tag": "ABX9TyNS1Ta4jBlZPyTENXAl6jhi",
      "include_colab_link": true
    },
    "kernelspec": {
      "name": "python3",
      "display_name": "Python 3"
    },
    "language_info": {
      "name": "python"
    }
  },
  "cells": [
    {
      "cell_type": "markdown",
      "metadata": {
        "id": "view-in-github",
        "colab_type": "text"
      },
      "source": [
        "<a href=\"https://colab.research.google.com/github/201298yashgarg/ASSIGNMENTS/blob/main/Tutorial_1_solutions.ipynb\" target=\"_parent\"><img src=\"https://colab.research.google.com/assets/colab-badge.svg\" alt=\"Open In Colab\"/></a>"
      ]
    },
    {
      "cell_type": "code",
      "metadata": {
        "colab": {
          "base_uri": "https://localhost:8080/"
        },
        "id": "53pH443BRyYZ",
        "outputId": "e1a55c3b-5fc3-4023-bcc8-70b671fab78d"
      },
      "source": [
        "width = 17\n",
        "height = 12.0\n",
        "delimiter = '.'\n",
        "a=width/2\n",
        "print(a)\n",
        "print(type(a))\n",
        "b=width/2.0\n",
        "print(b)\n",
        "print(type(b))\n",
        "c=height/3\n",
        "print(c)\n",
        "print(type(c))\n",
        "d = 1 + 2 * 5\n",
        "print(d)\n",
        "print(type(d))\n",
        "e = delimiter * 5\n",
        "print(e)\n",
        "print(type(e))"
      ],
      "execution_count": 3,
      "outputs": [
        {
          "output_type": "stream",
          "text": [
            "8.5\n",
            "<class 'float'>\n",
            "8.5\n",
            "<class 'float'>\n",
            "4.0\n",
            "<class 'float'>\n",
            "11\n",
            "<class 'int'>\n",
            ".....\n",
            "<class 'str'>\n"
          ],
          "name": "stdout"
        }
      ]
    },
    {
      "cell_type": "markdown",
      "metadata": {
        "id": "yKtM7F4VS8Ya"
      },
      "source": [
        "EXERCISE 2.3\n",
        "QUES - 1"
      ]
    },
    {
      "cell_type": "code",
      "metadata": {
        "colab": {
          "base_uri": "https://localhost:8080/"
        },
        "id": "76HJf7kkTYl3",
        "outputId": "c7cded42-31ed-4061-e6a5-9a28e4068c43"
      },
      "source": [
        "r = 5\n",
        "vol = (4/3)*3.14*(r**3)\n",
        "print(\"Volume of sphere of radius\",r,\"is\",vol)"
      ],
      "execution_count": 5,
      "outputs": [
        {
          "output_type": "stream",
          "text": [
            "Volume of sphere of radius 5 is 523.3333333333334\n"
          ],
          "name": "stdout"
        }
      ]
    },
    {
      "cell_type": "markdown",
      "metadata": {
        "id": "L4W6YghGULga"
      },
      "source": [
        "QUES - 2"
      ]
    },
    {
      "cell_type": "code",
      "metadata": {
        "colab": {
          "base_uri": "https://localhost:8080/"
        },
        "id": "am_GMUcDUObi",
        "outputId": "3e1b3a7c-e169-4718-9154-5fd645f9b2f1"
      },
      "source": [
        "cover_price = 24.95\n",
        "discount = (40/100)*cover_price\n",
        "ship_cost_1stcopy = 3\n",
        "ship_cost_othercopies = 75/100\n",
        "cost_60copies = (cover_price - discount)*60 + ship_cost_1stcopy + (ship_cost_othercopies*59)\n",
        "print(\"Total wholesale cost of 60 copies is \",cost_60copies)"
      ],
      "execution_count": 7,
      "outputs": [
        {
          "output_type": "stream",
          "text": [
            "Total wholesale cost of 60 copies is  945.4499999999999\n"
          ],
          "name": "stdout"
        }
      ]
    },
    {
      "cell_type": "markdown",
      "metadata": {
        "id": "9fVZDd6CVv4U"
      },
      "source": [
        "QUES - 3"
      ]
    },
    {
      "cell_type": "code",
      "metadata": {
        "colab": {
          "base_uri": "https://localhost:8080/"
        },
        "id": "EXqn4IZuVxsr",
        "outputId": "399b13c5-0a96-4b32-c886-b0aec2afcd22"
      },
      "source": [
        "start_time = (6*60 + 52)*60\n",
        "easypace_time = (8*60 + 15)*2\n",
        "tempo_time = (7*60 + 12)\n",
        "breakfast_time = (start_time + easypace_time + tempo_time)\n",
        "breakfast_hour = int((breakfast_time)/(60*60))\n",
        "breakfast_minute = int(((breakfast_time) - (breakfast_hour*60*60))/60)\n",
        "print(\"Breakfast Time:\",breakfast_hour,\":\",breakfast_minute)"
      ],
      "execution_count": 8,
      "outputs": [
        {
          "output_type": "stream",
          "text": [
            "Breakfast Time: 7 : 15\n"
          ],
          "name": "stdout"
        }
      ]
    }
  ]
}