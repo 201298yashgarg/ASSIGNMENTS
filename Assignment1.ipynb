{
  "nbformat": 4,
  "nbformat_minor": 0,
  "metadata": {
    "colab": {
      "name": "Assignment1.ipynb",
      "provenance": [],
      "authorship_tag": "ABX9TyN7J2SX/flUZ1p9/dbKwHFH",
      "include_colab_link": true
    },
    "kernelspec": {
      "name": "python3",
      "display_name": "Python 3"
    },
    "language_info": {
      "name": "python"
    }
  },
  "cells": [
    {
      "cell_type": "markdown",
      "metadata": {
        "id": "view-in-github",
        "colab_type": "text"
      },
      "source": [
        "<a href=\"https://colab.research.google.com/github/201298yashgarg/ASSIGNMENTS/blob/main/Assignment1.ipynb\" target=\"_parent\"><img src=\"https://colab.research.google.com/assets/colab-badge.svg\" alt=\"Open In Colab\"/></a>"
      ]
    },
    {
      "cell_type": "markdown",
      "metadata": {
        "id": "Hch9c2t7_UmI"
      },
      "source": [
        "Question 1"
      ]
    },
    {
      "cell_type": "code",
      "metadata": {
        "colab": {
          "base_uri": "https://localhost:8080/"
        },
        "id": "1RL-N7Dl-2P_",
        "outputId": "167eae12-8689-4924-e516-26b689ed0a82"
      },
      "source": [
        "import sys\n",
        "print(sys.version)\n"
      ],
      "execution_count": 1,
      "outputs": [
        {
          "output_type": "stream",
          "text": [
            "3.7.11 (default, Jul  3 2021, 18:01:19) \n",
            "[GCC 7.5.0]\n"
          ],
          "name": "stdout"
        }
      ]
    },
    {
      "cell_type": "markdown",
      "metadata": {
        "id": "xJxEHYvv-9Yp"
      },
      "source": [
        "Question 2"
      ]
    },
    {
      "cell_type": "code",
      "metadata": {
        "colab": {
          "base_uri": "https://localhost:8080/"
        },
        "id": "ofDwKBxL--uY",
        "outputId": "308dd933-1de9-41a2-9a1f-aebe1bd4aa67"
      },
      "source": [
        "from math import pi\n",
        "r = float(input(\"Enter the radius of the circle : \"))\n",
        "area = pi * (r**2)\n",
        "print(\"The area of circle of radius \" ,r,\"is\" ,area)"
      ],
      "execution_count": 2,
      "outputs": [
        {
          "output_type": "stream",
          "text": [
            "Enter the radius of the circle : 5\n",
            "The area of circle of radius  5.0 is 78.53981633974483\n"
          ],
          "name": "stdout"
        }
      ]
    }
  ]
}